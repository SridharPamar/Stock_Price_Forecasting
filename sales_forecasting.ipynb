{
  "cells": [
    {
      "cell_type": "markdown",
      "metadata": {
        "_cell_guid": "b1076dfc-b9ad-4769-8c92-a6c4dae69d19",
        "_uuid": "8f2839f25d086af736a60e9eeb907d3b93b6e0e5",
        "papermill": {
          "duration": 0.008028,
          "end_time": "2022-07-05T14:49:40.021433",
          "exception": false,
          "start_time": "2022-07-05T14:49:40.013405",
          "status": "completed"
        },
        "tags": [],
        "id": "ePu0yN485Mg5"
      },
      "source": [
        "# Sales Forecasting\n",
        "## Using Machine Learning to predict sales\n",
        "\n",
        "Kaggle [Dataset](https://www.kaggle.com/competitions/demand-forecasting-kernels-only/data?select=train.csv)"
      ],
      "id": "ePu0yN485Mg5"
    },
    {
      "cell_type": "code",
      "execution_count": null,
      "metadata": {
        "execution": {
          "iopub.execute_input": "2023-03-11T20:18:01.869809Z",
          "iopub.status.busy": "2023-03-11T20:18:01.869441Z",
          "iopub.status.idle": "2023-03-11T20:18:01.877813Z",
          "shell.execute_reply": "2023-03-11T20:18:01.876215Z",
          "shell.execute_reply.started": "2023-03-11T20:18:01.869782Z"
        },
        "papermill": {
          "duration": 1.431176,
          "end_time": "2022-07-05T14:49:41.459708",
          "exception": false,
          "start_time": "2022-07-05T14:49:40.028532",
          "status": "completed"
        },
        "tags": [],
        "trusted": true,
        "id": "oNE33Wun5Mg7"
      },
      "outputs": [],
      "source": [
        "import numpy as np\n",
        "import pandas as pd\n",
        "import matplotlib.pyplot as plt\n",
        "import seaborn as sns\n",
        "from sklearn.linear_model import LinearRegression\n",
        "from sklearn.ensemble import RandomForestRegressor\n",
        "import xgboost as xgb\n",
        "from sklearn.metrics import mean_absolute_error, mean_squared_error, r2_score\n",
        "color_pallet = sns.color_palette()\n",
        "plt.style.use('fivethirtyeight')"
      ],
      "id": "oNE33Wun5Mg7"
    },
    {
      "cell_type": "code",
      "execution_count": null,
      "metadata": {
        "execution": {
          "iopub.execute_input": "2023-03-11T20:42:58.933204Z",
          "iopub.status.busy": "2023-03-11T20:42:58.932582Z",
          "iopub.status.idle": "2023-03-11T20:42:59.132602Z",
          "shell.execute_reply": "2023-03-11T20:42:59.131821Z",
          "shell.execute_reply.started": "2023-03-11T20:42:58.933167Z"
        },
        "papermill": {
          "duration": 0.249992,
          "end_time": "2022-07-05T14:49:41.730501",
          "exception": false,
          "start_time": "2022-07-05T14:49:41.480509",
          "status": "completed"
        },
        "tags": [],
        "trusted": true,
        "id": "LSN19l0Y5Mg9"
      },
      "outputs": [],
      "source": [
        "df = pd.read_csv('/content/train.csv')"
      ],
      "id": "LSN19l0Y5Mg9"
    },
    {
      "cell_type": "markdown",
      "metadata": {
        "id": "qVIeSaAV5Mg9"
      },
      "source": [
        "# EDA"
      ],
      "id": "qVIeSaAV5Mg9"
    },
    {
      "cell_type": "code",
      "execution_count": null,
      "metadata": {
        "execution": {
          "iopub.execute_input": "2023-03-11T20:46:55.117898Z",
          "iopub.status.busy": "2023-03-11T20:46:55.117531Z",
          "iopub.status.idle": "2023-03-11T20:46:55.128902Z",
          "shell.execute_reply": "2023-03-11T20:46:55.127535Z",
          "shell.execute_reply.started": "2023-03-11T20:46:55.117868Z"
        },
        "trusted": true,
        "id": "DIkVgKP65Mg-"
      },
      "outputs": [],
      "source": [
        "df.head()"
      ],
      "id": "DIkVgKP65Mg-"
    },
    {
      "cell_type": "code",
      "execution_count": null,
      "metadata": {
        "execution": {
          "iopub.execute_input": "2023-03-11T20:43:04.927044Z",
          "iopub.status.busy": "2023-03-11T20:43:04.926648Z",
          "iopub.status.idle": "2023-03-11T20:43:04.985759Z",
          "shell.execute_reply": "2023-03-11T20:43:04.983955Z",
          "shell.execute_reply.started": "2023-03-11T20:43:04.927006Z"
        },
        "trusted": true,
        "id": "AWKjBIbZ5Mg-"
      },
      "outputs": [],
      "source": [
        "df.describe()"
      ],
      "id": "AWKjBIbZ5Mg-"
    },
    {
      "cell_type": "code",
      "execution_count": null,
      "metadata": {
        "execution": {
          "iopub.execute_input": "2023-03-11T20:44:33.458505Z",
          "iopub.status.busy": "2023-03-11T20:44:33.458103Z",
          "iopub.status.idle": "2023-03-11T20:44:33.466163Z",
          "shell.execute_reply": "2023-03-11T20:44:33.464584Z",
          "shell.execute_reply.started": "2023-03-11T20:44:33.458473Z"
        },
        "trusted": true,
        "id": "DYJyjYjR5Mg-"
      },
      "outputs": [],
      "source": [
        "df.shape"
      ],
      "id": "DYJyjYjR5Mg-"
    },
    {
      "cell_type": "code",
      "execution_count": null,
      "metadata": {
        "execution": {
          "iopub.execute_input": "2023-03-11T20:44:47.223003Z",
          "iopub.status.busy": "2023-03-11T20:44:47.222415Z",
          "iopub.status.idle": "2023-03-11T20:44:47.231002Z",
          "shell.execute_reply": "2023-03-11T20:44:47.229648Z",
          "shell.execute_reply.started": "2023-03-11T20:44:47.222966Z"
        },
        "trusted": true,
        "id": "tsXRru9N5Mg-"
      },
      "outputs": [],
      "source": [
        "df.dtypes"
      ],
      "id": "tsXRru9N5Mg-"
    },
    {
      "cell_type": "code",
      "execution_count": null,
      "metadata": {
        "execution": {
          "iopub.execute_input": "2023-03-11T20:48:10.619443Z",
          "iopub.status.busy": "2023-03-11T20:48:10.619011Z",
          "iopub.status.idle": "2023-03-11T20:48:10.697000Z",
          "shell.execute_reply": "2023-03-11T20:48:10.695980Z",
          "shell.execute_reply.started": "2023-03-11T20:48:10.619404Z"
        },
        "trusted": true,
        "id": "e0IvFE575Mg_"
      },
      "outputs": [],
      "source": [
        "f'Total dates: {df[[\"date\"]].nunique()[0]}'"
      ],
      "id": "e0IvFE575Mg_"
    },
    {
      "cell_type": "code",
      "execution_count": null,
      "metadata": {
        "execution": {
          "iopub.execute_input": "2023-03-11T20:48:24.590972Z",
          "iopub.status.busy": "2023-03-11T20:48:24.590054Z",
          "iopub.status.idle": "2023-03-11T20:48:24.602861Z",
          "shell.execute_reply": "2023-03-11T20:48:24.601899Z",
          "shell.execute_reply.started": "2023-03-11T20:48:24.590933Z"
        },
        "trusted": true,
        "id": "VQxQQH7s5Mg_"
      },
      "outputs": [],
      "source": [
        "f'Total store: {df[[\"store\"]].nunique()[0]}'"
      ],
      "id": "VQxQQH7s5Mg_"
    },
    {
      "cell_type": "code",
      "execution_count": null,
      "metadata": {
        "execution": {
          "iopub.execute_input": "2023-03-11T20:48:42.809866Z",
          "iopub.status.busy": "2023-03-11T20:48:42.809467Z",
          "iopub.status.idle": "2023-03-11T20:48:42.823557Z",
          "shell.execute_reply": "2023-03-11T20:48:42.821814Z",
          "shell.execute_reply.started": "2023-03-11T20:48:42.809833Z"
        },
        "trusted": true,
        "id": "wlTCYoDj5Mg_"
      },
      "outputs": [],
      "source": [
        "f'Total items: {df[[\"item\"]].nunique()[0]}'"
      ],
      "id": "wlTCYoDj5Mg_"
    },
    {
      "cell_type": "markdown",
      "metadata": {
        "id": "hf-Br-0c5MhA"
      },
      "source": [
        "## Checking null data"
      ],
      "id": "hf-Br-0c5MhA"
    },
    {
      "cell_type": "code",
      "execution_count": null,
      "metadata": {
        "execution": {
          "iopub.execute_input": "2023-03-11T20:40:22.518268Z",
          "iopub.status.busy": "2023-03-11T20:40:22.517886Z",
          "iopub.status.idle": "2023-03-11T20:40:22.599247Z",
          "shell.execute_reply": "2023-03-11T20:40:22.597800Z",
          "shell.execute_reply.started": "2023-03-11T20:40:22.518221Z"
        },
        "trusted": true,
        "id": "n4sgyozH5MhA"
      },
      "outputs": [],
      "source": [
        "df[df.isna().any(axis=1) | df.isnull().any(axis=1)]\n"
      ],
      "id": "n4sgyozH5MhA"
    },
    {
      "cell_type": "code",
      "source": [
        "# Sales Trends Over Time\n",
        "plt.figure(figsize=(15, 5))\n",
        "sales_trend = df.groupby('date')['sales'].sum()\n",
        "plt.plot(sales_trend.index, sales_trend.values, label='Total Sales', color=color_pallet[0])\n",
        "plt.title('Sales Trend Over Time')\n",
        "plt.xlabel('Date')\n",
        "plt.ylabel('Total Sales')\n",
        "plt.legend()\n",
        "plt.grid(True)\n",
        "plt.show()\n"
      ],
      "metadata": {
        "id": "Etp1pRsqzrpV"
      },
      "id": "Etp1pRsqzrpV",
      "execution_count": null,
      "outputs": []
    },
    {
      "cell_type": "code",
      "source": [
        "# Distribution of Sales\n",
        "plt.figure(figsize=(8, 5))\n",
        "sns.histplot(df['sales'], bins=30, kde=True, color='green')\n",
        "plt.title('Distribution of Sales')\n",
        "plt.xlabel('Sales')\n",
        "plt.ylabel('Frequency')\n",
        "plt.grid(True)\n",
        "plt.show()\n"
      ],
      "metadata": {
        "id": "TM238_Ugz3yS",
        "collapsed": true
      },
      "id": "TM238_Ugz3yS",
      "execution_count": null,
      "outputs": []
    },
    {
      "cell_type": "code",
      "source": [
        "# Sales Boxplot by Store\n",
        "plt.figure(figsize=(12, 6))\n",
        "sns.boxplot(data=df, x='store', y='sales')\n",
        "plt.title('Sales Distribution by Store')\n",
        "plt.xlabel('Store')\n",
        "plt.ylabel('Sales')\n",
        "plt.grid(True)\n",
        "plt.show()\n"
      ],
      "metadata": {
        "id": "5W172nJQ0Hz1"
      },
      "id": "5W172nJQ0Hz1",
      "execution_count": null,
      "outputs": []
    },
    {
      "cell_type": "markdown",
      "metadata": {
        "id": "SY7p-km-5MhA"
      },
      "source": [
        "## Setting date as index"
      ],
      "id": "SY7p-km-5MhA"
    },
    {
      "cell_type": "code",
      "execution_count": null,
      "metadata": {
        "execution": {
          "iopub.execute_input": "2023-03-11T20:40:25.862534Z",
          "iopub.status.busy": "2023-03-11T20:40:25.862132Z",
          "iopub.status.idle": "2023-03-11T20:40:25.952652Z",
          "shell.execute_reply": "2023-03-11T20:40:25.951893Z",
          "shell.execute_reply.started": "2023-03-11T20:40:25.862501Z"
        },
        "trusted": true,
        "id": "JGDUR8X15MhA"
      },
      "outputs": [],
      "source": [
        "df.set_index('date', inplace = True)\n",
        "df.index = pd.to_datetime(df.index)\n",
        "\n",
        "df.head()"
      ],
      "id": "JGDUR8X15MhA"
    },
    {
      "cell_type": "markdown",
      "metadata": {
        "papermill": {
          "duration": 0.009814,
          "end_time": "2022-07-05T14:49:45.407566",
          "exception": false,
          "start_time": "2022-07-05T14:49:45.397752",
          "status": "completed"
        },
        "tags": [],
        "id": "5Qxx3FVk5MhC"
      },
      "source": [
        "# Feature engineering"
      ],
      "id": "5Qxx3FVk5MhC"
    },
    {
      "cell_type": "code",
      "execution_count": null,
      "metadata": {
        "execution": {
          "iopub.execute_input": "2023-03-11T19:59:21.381992Z",
          "iopub.status.busy": "2023-03-11T19:59:21.381620Z",
          "iopub.status.idle": "2023-03-11T19:59:21.396737Z",
          "shell.execute_reply": "2023-03-11T19:59:21.395969Z",
          "shell.execute_reply.started": "2023-03-11T19:59:21.381959Z"
        },
        "papermill": {
          "duration": 0.186611,
          "end_time": "2022-07-05T14:49:45.604832",
          "exception": false,
          "start_time": "2022-07-05T14:49:45.418221",
          "status": "completed"
        },
        "tags": [],
        "trusted": true,
        "id": "Q_GEM8B45MhC"
      },
      "outputs": [],
      "source": [
        "def create_features(df):\n",
        "    \"\"\"\n",
        "    Creating time series features based on dataframe index.\n",
        "    \"\"\"\n",
        "    df = df.copy()\n",
        "    # df['hour'] = df.index.hour\n",
        "    df['dayofweek'] = df.index.dayofweek\n",
        "    df['quarter'] = df.index.quarter\n",
        "    df['month'] = df.index.month\n",
        "    df['year'] = df.index.year\n",
        "    df['dayofyear'] = df.index.dayofyear\n",
        "    df['dayofmonth'] = df.index.day\n",
        "    df['weekofyear'] = df.index.isocalendar().week\n",
        "    return df\n",
        "\n",
        "df = create_features(df)"
      ],
      "id": "Q_GEM8B45MhC"
    },
    {
      "cell_type": "code",
      "execution_count": null,
      "id": "4497c1a4",
      "metadata": {
        "id": "4497c1a4"
      },
      "outputs": [],
      "source": [
        "df.head()"
      ]
    },
    {
      "cell_type": "markdown",
      "metadata": {
        "papermill": {
          "duration": 0.008015,
          "end_time": "2022-07-05T14:49:43.150149",
          "exception": false,
          "start_time": "2022-07-05T14:49:43.142134",
          "status": "completed"
        },
        "tags": [],
        "id": "x_1TeRIW5MhB"
      },
      "source": [
        "# Train and Test Split"
      ],
      "id": "x_1TeRIW5MhB"
    },
    {
      "cell_type": "code",
      "execution_count": null,
      "metadata": {
        "execution": {
          "iopub.execute_input": "2023-03-11T19:59:18.067224Z",
          "iopub.status.busy": "2023-03-11T19:59:18.066363Z",
          "iopub.status.idle": "2023-03-11T19:59:18.372051Z",
          "shell.execute_reply": "2023-03-11T19:59:18.369827Z",
          "shell.execute_reply.started": "2023-03-11T19:59:18.067180Z"
        },
        "papermill": {
          "duration": 1.95336,
          "end_time": "2022-07-05T14:49:45.111787",
          "exception": false,
          "start_time": "2022-07-05T14:49:43.158427",
          "status": "completed"
        },
        "tags": [],
        "trusted": true,
        "id": "ZVJpAmbR5MhB"
      },
      "outputs": [],
      "source": [
        "train = df.loc[df.index < '01-01-2017']\n",
        "test = df.loc[df.index >= '01-01-2017']"
      ],
      "id": "ZVJpAmbR5MhB"
    },
    {
      "cell_type": "markdown",
      "metadata": {
        "papermill": {
          "duration": 0.010945,
          "end_time": "2022-07-05T14:49:46.636956",
          "exception": false,
          "start_time": "2022-07-05T14:49:46.626011",
          "status": "completed"
        },
        "tags": [],
        "id": "w903byE65MhD"
      },
      "source": [
        "# Creating Model"
      ],
      "id": "w903byE65MhD"
    },
    {
      "cell_type": "code",
      "execution_count": null,
      "metadata": {
        "execution": {
          "iopub.execute_input": "2023-03-11T19:59:24.256423Z",
          "iopub.status.busy": "2023-03-11T19:59:24.254600Z",
          "iopub.status.idle": "2023-03-11T19:59:24.278808Z",
          "shell.execute_reply": "2023-03-11T19:59:24.277576Z",
          "shell.execute_reply.started": "2023-03-11T19:59:24.256353Z"
        },
        "papermill": {
          "duration": 0.20116,
          "end_time": "2022-07-05T14:49:46.849298",
          "exception": false,
          "start_time": "2022-07-05T14:49:46.648138",
          "status": "completed"
        },
        "tags": [],
        "trusted": true,
        "id": "jyvThJbr5MhE"
      },
      "outputs": [],
      "source": [
        "train = create_features(train)\n",
        "test = create_features(test)\n",
        "\n",
        "FEATURES = ['store', 'item', 'dayofyear', 'dayofweek', 'quarter', 'month', 'year']\n",
        "TARGET = 'sales'\n",
        "\n",
        "X_train = train[FEATURES]\n",
        "y_train = train[TARGET]\n",
        "\n",
        "X_test = test[FEATURES]\n",
        "y_test = test[TARGET]"
      ],
      "id": "jyvThJbr5MhE"
    },
    {
      "cell_type": "markdown",
      "metadata": {
        "id": "J8cg1GDW5MhE"
      },
      "source": [
        "# Linear Regression"
      ],
      "id": "J8cg1GDW5MhE"
    },
    {
      "cell_type": "code",
      "execution_count": null,
      "metadata": {
        "execution": {
          "iopub.execute_input": "2023-03-11T20:17:57.865829Z",
          "iopub.status.busy": "2023-03-11T20:17:57.865336Z",
          "iopub.status.idle": "2023-03-11T20:17:57.878122Z",
          "shell.execute_reply": "2023-03-11T20:17:57.876051Z",
          "shell.execute_reply.started": "2023-03-11T20:17:57.865789Z"
        },
        "trusted": true,
        "id": "-VhOCdJy5MhE"
      },
      "outputs": [],
      "source": [
        "linreg_model = LinearRegression()\n",
        "linreg_model.fit(X_train, y_train)"
      ],
      "id": "-VhOCdJy5MhE"
    },
    {
      "cell_type": "code",
      "source": [
        "test['prediction_lr'] = linreg_model.predict(X_test)"
      ],
      "metadata": {
        "id": "5l5zMpSQMxgE"
      },
      "id": "5l5zMpSQMxgE",
      "execution_count": null,
      "outputs": []
    },
    {
      "cell_type": "code",
      "execution_count": null,
      "metadata": {
        "execution": {
          "iopub.execute_input": "2023-03-11T20:16:57.781820Z",
          "iopub.status.busy": "2023-03-11T20:16:57.781442Z",
          "iopub.status.idle": "2023-03-11T20:16:57.790935Z",
          "shell.execute_reply": "2023-03-11T20:16:57.790090Z",
          "shell.execute_reply.started": "2023-03-11T20:16:57.781786Z"
        },
        "trusted": true,
        "id": "oRR0ItOh5MhF"
      },
      "outputs": [],
      "source": [
        "linreg_rmse = np.sqrt(mean_squared_error(test['sales'], test['prediction_lr']))\n",
        "linreg_mae = mean_absolute_error(test['sales'], test['prediction_lr'])\n",
        "linreg_r2 = r2_score(test['sales'], test['prediction_lr'])\n",
        "print('Linear Regression RMSE: ', linreg_rmse)\n",
        "print('Linear Regression MAE: ', linreg_mae)\n",
        "print('Linear Regression R2 Score: ', linreg_r2)"
      ],
      "id": "oRR0ItOh5MhF"
    },
    {
      "cell_type": "markdown",
      "metadata": {
        "id": "7Qm85Qz65MhF"
      },
      "source": [
        "# Random Forest"
      ],
      "id": "7Qm85Qz65MhF"
    },
    {
      "cell_type": "code",
      "execution_count": null,
      "metadata": {
        "execution": {
          "iopub.execute_input": "2023-03-11T20:19:34.045830Z",
          "iopub.status.busy": "2023-03-11T20:19:34.045469Z",
          "iopub.status.idle": "2023-03-11T20:19:34.324676Z",
          "shell.execute_reply": "2023-03-11T20:19:34.323054Z",
          "shell.execute_reply.started": "2023-03-11T20:19:34.045797Z"
        },
        "trusted": true,
        "id": "ndsa0D-55MhF"
      },
      "outputs": [],
      "source": [
        "rf_model = RandomForestRegressor(n_estimators=100, max_depth=40)\n",
        "rf_model.fit(X_train, y_train)"
      ],
      "id": "ndsa0D-55MhF"
    },
    {
      "cell_type": "code",
      "execution_count": null,
      "metadata": {
        "execution": {
          "iopub.execute_input": "2023-03-11T20:19:58.912553Z",
          "iopub.status.busy": "2023-03-11T20:19:58.912154Z",
          "iopub.status.idle": "2023-03-11T20:19:59.212722Z",
          "shell.execute_reply": "2023-03-11T20:19:59.210842Z",
          "shell.execute_reply.started": "2023-03-11T20:19:58.912521Z"
        },
        "trusted": true,
        "id": "k1SrOepm5MhF"
      },
      "outputs": [],
      "source": [
        "test['prediction_rf'] = rf_model.predict(X_test)"
      ],
      "id": "k1SrOepm5MhF"
    },
    {
      "cell_type": "code",
      "execution_count": null,
      "metadata": {
        "execution": {
          "iopub.execute_input": "2023-03-11T20:21:55.119312Z",
          "iopub.status.busy": "2023-03-11T20:21:55.118883Z",
          "iopub.status.idle": "2023-03-11T20:21:55.128541Z",
          "shell.execute_reply": "2023-03-11T20:21:55.127292Z",
          "shell.execute_reply.started": "2023-03-11T20:21:55.119272Z"
        },
        "trusted": true,
        "id": "etU1BuD45MhG"
      },
      "outputs": [],
      "source": [
        "rf_rmse = np.sqrt(mean_squared_error(test['sales'], test['prediction_rf']))\n",
        "rf_mae = mean_absolute_error(test['sales'], test['prediction_rf'])\n",
        "rf_r2 = r2_score(test['sales'], test['prediction_rf'])\n",
        "print('Random Forest RMSE: ', rf_rmse)\n",
        "print('Random Forest MAE: ', rf_mae)\n",
        "print('Random Forest R2 Score: ', rf_r2)"
      ],
      "id": "etU1BuD45MhG"
    },
    {
      "cell_type": "markdown",
      "metadata": {
        "id": "TTfLqmA55MhG"
      },
      "source": [
        "# XGBOOST"
      ],
      "id": "TTfLqmA55MhG"
    },
    {
      "cell_type": "code",
      "execution_count": null,
      "metadata": {
        "execution": {
          "iopub.execute_input": "2023-03-11T20:23:28.945002Z",
          "iopub.status.busy": "2023-03-11T20:23:28.944619Z",
          "iopub.status.idle": "2023-03-11T20:23:32.611485Z",
          "shell.execute_reply": "2023-03-11T20:23:32.610443Z",
          "shell.execute_reply.started": "2023-03-11T20:23:28.944967Z"
        },
        "papermill": {
          "duration": 26.75173,
          "end_time": "2022-07-05T14:50:13.612588",
          "exception": false,
          "start_time": "2022-07-05T14:49:46.860858",
          "status": "completed"
        },
        "tags": [],
        "trusted": true,
        "id": "B6KBuIZR5MhH"
      },
      "outputs": [],
      "source": [
        "reg = xgb.XGBRegressor(base_score=0.5, booster='gbtree',\n",
        "                       n_estimators=4000,\n",
        "                       early_stopping_rounds=50,\n",
        "                       objective='reg:linear',\n",
        "                       max_depth=4,\n",
        "                       learning_rate=0.01)\n",
        "reg.fit(X_train, y_train,\n",
        "        eval_set=[(X_train, y_train), (X_test, y_test)],\n",
        "        verbose=100)"
      ],
      "id": "B6KBuIZR5MhH"
    },
    {
      "cell_type": "markdown",
      "metadata": {
        "papermill": {
          "duration": 0.012097,
          "end_time": "2022-07-05T14:50:13.636564",
          "exception": false,
          "start_time": "2022-07-05T14:50:13.624467",
          "status": "completed"
        },
        "tags": [],
        "id": "1oub9GJO5MhH"
      },
      "source": [
        "# Feature Importance"
      ],
      "id": "1oub9GJO5MhH"
    },
    {
      "cell_type": "code",
      "execution_count": null,
      "metadata": {
        "execution": {
          "iopub.execute_input": "2023-03-11T20:23:32.613454Z",
          "iopub.status.busy": "2023-03-11T20:23:32.613110Z",
          "iopub.status.idle": "2023-03-11T20:23:32.776406Z",
          "shell.execute_reply": "2023-03-11T20:23:32.775289Z",
          "shell.execute_reply.started": "2023-03-11T20:23:32.613420Z"
        },
        "papermill": {
          "duration": 0.22845,
          "end_time": "2022-07-05T14:50:13.877111",
          "exception": false,
          "start_time": "2022-07-05T14:50:13.648661",
          "status": "completed"
        },
        "tags": [],
        "trusted": true,
        "id": "NsEuRKID5MhH"
      },
      "outputs": [],
      "source": [
        "fi = pd.DataFrame(data=reg.feature_importances_,\n",
        "             index=reg.get_booster().feature_names,\n",
        "             columns=['importance'])\n",
        "fi.sort_values('importance').plot(kind='barh', title='Feature Importance')\n",
        "plt.show()"
      ],
      "id": "NsEuRKID5MhH"
    },
    {
      "cell_type": "markdown",
      "metadata": {
        "papermill": {
          "duration": 0.012188,
          "end_time": "2022-07-05T14:50:13.901939",
          "exception": false,
          "start_time": "2022-07-05T14:50:13.889751",
          "status": "completed"
        },
        "tags": [],
        "id": "e9ogNhbs5MhI"
      },
      "source": [
        "# Forecast on Test"
      ],
      "id": "e9ogNhbs5MhI"
    },
    {
      "cell_type": "code",
      "execution_count": null,
      "metadata": {
        "execution": {
          "iopub.execute_input": "2023-03-11T20:23:45.230437Z",
          "iopub.status.busy": "2023-03-11T20:23:45.230054Z",
          "iopub.status.idle": "2023-03-11T20:23:45.512000Z",
          "shell.execute_reply": "2023-03-11T20:23:45.511020Z",
          "shell.execute_reply.started": "2023-03-11T20:23:45.230404Z"
        },
        "papermill": {
          "duration": 3.885446,
          "end_time": "2022-07-05T14:50:17.799940",
          "exception": false,
          "start_time": "2022-07-05T14:50:13.914494",
          "status": "completed"
        },
        "tags": [],
        "trusted": true,
        "id": "B9dQBwpL5MhI"
      },
      "outputs": [],
      "source": [
        "test['prediction_xg'] = reg.predict(X_test)\n",
        "# df = df.merge(test[['prediction_xg']], how='left', left_index=True, right_index=True)"
      ],
      "id": "B9dQBwpL5MhI"
    },
    {
      "cell_type": "markdown",
      "metadata": {
        "papermill": {
          "duration": 0.014338,
          "end_time": "2022-07-05T14:50:18.122461",
          "exception": false,
          "start_time": "2022-07-05T14:50:18.108123",
          "status": "completed"
        },
        "tags": [],
        "id": "cliIdOoY5MhI"
      },
      "source": [
        "# Score (RMSE)"
      ],
      "id": "cliIdOoY5MhI"
    },
    {
      "cell_type": "code",
      "execution_count": null,
      "metadata": {
        "execution": {
          "iopub.execute_input": "2023-03-11T20:24:57.367092Z",
          "iopub.status.busy": "2023-03-11T20:24:57.366153Z",
          "iopub.status.idle": "2023-03-11T20:24:57.375856Z",
          "shell.execute_reply": "2023-03-11T20:24:57.374724Z",
          "shell.execute_reply.started": "2023-03-11T20:24:57.367048Z"
        },
        "papermill": {
          "duration": 0.026642,
          "end_time": "2022-07-05T14:50:18.164035",
          "exception": false,
          "start_time": "2022-07-05T14:50:18.137393",
          "status": "completed"
        },
        "tags": [],
        "trusted": true,
        "id": "98BV96cc5MhJ"
      },
      "outputs": [],
      "source": [
        "xg_rmse = np.sqrt(mean_squared_error(test['sales'], test['prediction_xg']))\n",
        "xg_mae = mean_absolute_error(test['sales'], test['prediction_xg'])\n",
        "xg_r2 = r2_score(test['sales'], test['prediction_xg'])\n",
        "print('Random Forest RMSE: ', xg_rmse)\n",
        "print('Random Forest MAE: ', xg_mae)\n",
        "print('Random Forest R2 Score: ', xg_r2)"
      ],
      "id": "98BV96cc5MhJ"
    },
    {
      "cell_type": "markdown",
      "metadata": {
        "id": "wJ0oyeKv5MhJ"
      },
      "source": [
        "# Comparing Linear Regression, Random Forest, XG Boost"
      ],
      "id": "wJ0oyeKv5MhJ"
    },
    {
      "cell_type": "code",
      "execution_count": null,
      "metadata": {
        "execution": {
          "iopub.execute_input": "2023-03-11T20:26:20.808325Z",
          "iopub.status.busy": "2023-03-11T20:26:20.807889Z",
          "iopub.status.idle": "2023-03-11T20:26:20.814408Z",
          "shell.execute_reply": "2023-03-11T20:26:20.813315Z",
          "shell.execute_reply.started": "2023-03-11T20:26:20.808285Z"
        },
        "trusted": true,
        "id": "-QuHYruc5MhJ"
      },
      "outputs": [],
      "source": [
        "linreg_stats = [linreg_rmse, linreg_mae, linreg_r2]\n",
        "rf_stats = [rf_rmse, rf_mae, rf_r2]\n",
        "xgb_stats = [xg_rmse, xg_mae, xg_r2]"
      ],
      "id": "-QuHYruc5MhJ"
    },
    {
      "cell_type": "code",
      "execution_count": null,
      "metadata": {
        "execution": {
          "iopub.execute_input": "2023-03-11T20:27:01.580134Z",
          "iopub.status.busy": "2023-03-11T20:27:01.578945Z",
          "iopub.status.idle": "2023-03-11T20:27:01.783521Z",
          "shell.execute_reply": "2023-03-11T20:27:01.781700Z",
          "shell.execute_reply.started": "2023-03-11T20:27:01.580080Z"
        },
        "trusted": true,
        "id": "PROne9yE5MhJ"
      },
      "outputs": [],
      "source": [
        "plt.figure(figsize=(15,7))\n",
        "plt.plot(linreg_stats)\n",
        "plt.plot(rf_stats)\n",
        "plt.plot(xgb_stats)\n",
        "plt.title(\"Model Comparison between Linear Regression, Random Forest and XGboost\")\n",
        "plt.xticks([0,1,2], labels=['RMSE','MAE','R2 Score'])\n",
        "plt.legend([\"Linear Regression\", \"Random Forest\", \"XG Boost\"])\n",
        "plt.show()"
      ],
      "id": "PROne9yE5MhJ"
    }
  ],
  "metadata": {
    "kernelspec": {
      "display_name": "Python 3",
      "language": "python",
      "name": "python3"
    },
    "language_info": {
      "codemirror_mode": {
        "name": "ipython",
        "version": 3
      },
      "file_extension": ".py",
      "mimetype": "text/x-python",
      "name": "python",
      "nbconvert_exporter": "python",
      "pygments_lexer": "ipython3",
      "version": "3.10.4"
    },
    "papermill": {
      "default_parameters": {},
      "duration": 48.956079,
      "end_time": "2022-07-05T14:50:19.170306",
      "environment_variables": {},
      "exception": null,
      "input_path": "__notebook__.ipynb",
      "output_path": "__notebook__.ipynb",
      "parameters": {},
      "start_time": "2022-07-05T14:49:30.214227",
      "version": "2.3.4"
    },
    "vscode": {
      "interpreter": {
        "hash": "0a13c4bd1bd0bb5e47302c1e5eab57b32e083a3e782930007a947456f007beb5"
      }
    },
    "colab": {
      "provenance": []
    }
  },
  "nbformat": 4,
  "nbformat_minor": 5
}